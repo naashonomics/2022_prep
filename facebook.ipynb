{
  "nbformat": 4,
  "nbformat_minor": 0,
  "metadata": {
    "colab": {
      "name": "facebook.ipynb",
      "provenance": [],
      "authorship_tag": "ABX9TyOqUr+LcPk79Xaanhq3abG1",
      "include_colab_link": true
    },
    "kernelspec": {
      "name": "python3",
      "display_name": "Python 3"
    },
    "language_info": {
      "name": "python"
    }
  },
  "cells": [
    {
      "cell_type": "markdown",
      "metadata": {
        "id": "view-in-github",
        "colab_type": "text"
      },
      "source": [
        "<a href=\"https://colab.research.google.com/github/naashonomics/2022_prep/blob/main/facebook.ipynb\" target=\"_parent\"><img src=\"https://colab.research.google.com/assets/colab-badge.svg\" alt=\"Open In Colab\"/></a>"
      ]
    },
    {
      "cell_type": "code",
      "execution_count": 4,
      "metadata": {
        "colab": {
          "base_uri": "https://localhost:8080/"
        },
        "id": "Xv9ylcx1lM32",
        "outputId": "4a53af5f-ece3-40b2-c869-30a215754b98"
      },
      "outputs": [
        {
          "output_type": "stream",
          "name": "stdout",
          "text": [
            "[1, 2, 2, 3, 5, 6]\n",
            "[1, 2, 2, 2, 5, 6]\n"
          ]
        }
      ],
      "source": [
        "#Top 50 Easy 10  \n",
        "# 88. Merge Sorted Array\n",
        "# leetcode link : https://leetcode.com/problems/merge-sorted-array/ \n",
        "# youtube solution: https://www.youtube.com/watch?v=P1Ic85RarKY \n",
        "\n",
        "def merge( nums1,m,nums2,n):\n",
        "        \"\"\"\n",
        "        Do not return anything, modify nums1 in-place instead.\n",
        "        \"\"\"\n",
        "        # Set p1 and p2 to point to the end of their respective arrays.\n",
        "        p1 = m - 1\n",
        "        p2 = n - 1\n",
        "    \n",
        "        # And move p backwards through the array, each time writing\n",
        "        # the smallest value pointed at by p1 or p2.\n",
        "        for p in range(n + m - 1, -1, -1):\n",
        "            if p2 < 0:\n",
        "                break\n",
        "            if p1 >= 0 and nums1[p1] > nums2[p2]:\n",
        "                nums1[p] = nums1[p1]\n",
        "                p1 -= 1\n",
        "            else:\n",
        "                nums1[p] = nums2[p2]\n",
        "                p2 -= 1\n",
        "        return(nums1)\n",
        "\n",
        "def merge2( nums1,m,nums2,n):\n",
        "        #last index nums1\n",
        "        last =m +n -1\n",
        "        #merge in reverse order \n",
        "        while m>0 and n>0:\n",
        "            if nums1[m-1] > nums2[n-1]:\n",
        "                nums1[last]=nums1[m-1]\n",
        "                m=m-1\n",
        "            else:\n",
        "                nums1[last]=nums2[n-1]\n",
        "                n=n-1\n",
        "            last=last-1\n",
        "                \n",
        "         #fill nums1 with leftover elements in nums 2   \n",
        "        while n > 0:\n",
        "            nums1[last]=nums2[n-1]\n",
        "            n,last=n=1,last-1\n",
        "        return(nums1)          \n",
        "\n",
        "nums1 = [1,2,3,0,0,0]\n",
        "m = 3\n",
        "nums2 = [2,5,6]\n",
        "n = 3\n",
        "print(merge(nums1,n,nums2,n))\n",
        "\n",
        "#TC O(m+ n)\n",
        "#SC O(1)\n",
        "\n",
        "print(merge2(nums1,n,nums2,n))\n"
      ]
    },
    {
      "cell_type": "code",
      "source": [
        "#  125. Valid Palindrome\n",
        "# leetcode link :  https://leetcode.com/problems/valid-palindrome/\n",
        "# youtube solution: https://www.youtube.com/watch?v=jJXJ16kPFWg\n",
        "\n",
        "#Approach 1: Compare with Reverse \n",
        "def isPalindrome( s):\n",
        "        filtered_chars = filter(lambda ch: ch.isalnum(), s)\n",
        "        lowercase_filtered_chars = map(lambda ch: ch.lower(), filtered_chars)\n",
        "\n",
        "        filtered_chars_list = list(lowercase_filtered_chars)\n",
        "        reversed_chars_list = filtered_chars_list[::-1]\n",
        "\n",
        "        return filtered_chars_list == reversed_chars_list\n",
        "\n",
        "#Input1: \n",
        "s = \"A man, a plan, a canal: Panama\"\n",
        "#Output: true\n",
        "print(isPalindrome(s))\n",
        "#Input2: \n",
        "s1 = \"race a car\"\n",
        "print(isPalindrome(s1))\n",
        "#Output: false\n",
        "\n",
        "#TC O(n) SC O(n)"
      ],
      "metadata": {
        "colab": {
          "base_uri": "https://localhost:8080/"
        },
        "id": "wfqgKjEHsgps",
        "outputId": "7e29c9e0-0e5b-482f-eaf1-749254788f95"
      },
      "execution_count": 6,
      "outputs": [
        {
          "output_type": "stream",
          "name": "stdout",
          "text": [
            "True\n",
            "False\n"
          ]
        }
      ]
    }
  ]
}